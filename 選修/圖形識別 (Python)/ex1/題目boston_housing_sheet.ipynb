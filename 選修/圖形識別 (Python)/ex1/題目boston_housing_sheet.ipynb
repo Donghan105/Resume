{
  "nbformat": 4,
  "nbformat_minor": 0,
  "metadata": {
    "colab": {
      "name": "boston_housing_sheet.ipynb",
      "provenance": [],
      "collapsed_sections": []
    },
    "language_info": {
      "codemirror_mode": {
        "name": "ipython",
        "version": 3
      },
      "file_extension": ".py",
      "mimetype": "text/x-python",
      "name": "python",
      "nbconvert_exporter": "python",
      "pygments_lexer": "ipython3",
      "version": "3.6.5"
    },
    "kernelspec": {
      "display_name": "Python 3",
      "language": "python",
      "name": "python3"
    }
  },
  "cells": [
    {
      "cell_type": "markdown",
      "metadata": {
        "id": "gWhHkRXMobX0",
        "colab_type": "text"
      },
      "source": [
        "## Model Evaluation & Validation\n",
        "## Project: Predicting Boston Housing Prices\n",
        "\n",
        "This is a revised veriosn of the project from Udacity Machine Learning Engineer Nanodegree. In this notebook, some template code has already been provided for you, and you will need to implement additional functionality to successfully complete this project. You will not need to modify the included code beyond what is requested. Sections that begin with **'Implementation'** in the header indicate that the following block of code will require additional functionality which you must provide. Instructions will be provided for each section and the specifics of the implementation are marked in the code block with a 'TODO' statement. Please be sure to read the instructions carefully!\n",
        "\n",
        "In addition to implementing code, there will be questions that you must answer which relate to the project and your implementation. Each section where you will answer a question is preceded by a **'Question X'** header. Carefully read each question and provide thorough answers in the following text boxes that begin with **'Answer:'**. Your project submission will be evaluated based on your answers to each of the questions and the implementation you provide.  \n",
        "\n",
        ">**Note:** Code and Markdown cells can be executed using the **Shift + Enter** keyboard shortcut. In addition, Markdown cells can be edited by typically double-clicking the cell to enter edit mode.\n",
        "\n",
        "Try to answer the following questions.  \n",
        "可以使用中文回答。"
      ]
    },
    {
      "cell_type": "markdown",
      "metadata": {
        "id": "MvOtJxkQfx3Z",
        "colab_type": "text"
      },
      "source": [
        "This project requires **Python** and the following Python libraries installed:\n",
        "\n",
        "- [NumPy](http://www.numpy.org/)\n",
        "- [Pandas](http://pandas.pydata.org)\n",
        "- [matplotlib](http://matplotlib.org/)\n",
        "- [scikit-learn](http://scikit-learn.org/stable/) version: 0.18+\n",
        "\n",
        "You will also need to have software installed to run and execute a [Jupyter Notebook](https://jupyter.org/install)\n",
        "\n",
        "If you do not have Python installed yet, it is highly recommended that you install the [Anaconda](https://www.anaconda.com/distribution/) distribution of Python, which already has the above packages and more stuff included.\n",
        "\n",
        "Or, you can put this file on the [Google colab](https://colab.research.google.com/) environment. It's a free Jupyter notebook environment that requires no setup and runs entirely on the cloud."
      ]
    },
    {
      "cell_type": "markdown",
      "metadata": {
        "id": "acayhH_BobX1",
        "colab_type": "text"
      },
      "source": [
        "## Getting Started\n",
        "In this project, you will evaluate the performance and predictive power of a model that has been trained and tested on data collected from homes in suburbs of Boston, Massachusetts. A model trained on this data that is seen as a *good fit* could then be used to make certain predictions about a home — in particular, its monetary value. This model would prove to be invaluable for someone like a real estate agent who could make use of such information on a daily basis.\n",
        "\n",
        "The dataset for this project is named as *housing.csv*, which originates from the [UCI Machine Learning Repository](https://archive.ics.uci.edu/ml/datasets/Housing). The Boston housing data was collected in 1978 and each of the 506 entries represent aggregated data about 14 features for homes from various suburbs in Boston, Massachusetts.  \n",
        "**Note:** The sci-kit learn module also provides this dataset. You can obtain it by invoking `sklearn.datasets.load_boston()`. However, **please do not use that dataset in this project because it's somewhat unorganized.**  \n",
        "For the purposes of this project, the following preprocessing steps have been made to the dataset:\n",
        "- 16 data points have an `'MEDV'` value of 50.0. These data points likely contain **missing or censored values** and have been removed.\n",
        "- 1 data point has an `'RM'` value of 8.78. This data point can be considered an **outlier** and has been removed.\n",
        "- The features `'RM'`, `'LSTAT'`, `'PTRATIO'`, and `'MEDV'` are essential. The remaining **non-relevant features** have been excluded.\n",
        "- The feature `'MEDV'` has been **multiplicatively scaled** to account for 35 years of market inflation.\n",
        "\n",
        "\n",
        "\n"
      ]
    },
    {
      "cell_type": "code",
      "metadata": {
        "id": "1OecaGuUqHnF",
        "colab_type": "code",
        "colab": {}
      },
      "source": [
        "# remember to run this code cell if you cannot see your google drive on the left slidebar\n",
        "from google.colab import drive\n",
        "drive.mount('/content/gdrive')"
      ],
      "execution_count": 0,
      "outputs": []
    },
    {
      "cell_type": "markdown",
      "metadata": {
        "id": "nAwjVl5DYp8a",
        "colab_type": "text"
      },
      "source": [
        "Run the code cell below to load the Boston housing dataset, along with a few of the necessary Python libraries required for this project. You will know the dataset loaded successfully if the size of the dataset is reported printed out after this code block.  \n",
        "Note: If you run this notebook file locally, you can load *housing.csv* by simply putting this file and the csv file at the same directory."
      ]
    },
    {
      "cell_type": "code",
      "metadata": {
        "id": "-QvZYbeuobX3",
        "colab_type": "code",
        "colab": {}
      },
      "source": [
        "# Import libraries necessary for this project\n",
        "import numpy as np\n",
        "import pandas as pd\n",
        "import matplotlib.pyplot as plt\n",
        "\n",
        "# Load the Boston housing dataset\n",
        "# TODO: load the csv file \n",
        "data = pd.read_csv('{YOUR_FILE_LOCATION}')\n",
        "prices = data['MEDV']  # this is what we want to preict\n",
        "features = data.drop('MEDV', axis = 1)  # remove this feature because it is our target\n",
        "    \n",
        "# Success\n",
        "print(\"Boston housing dataset has {} data points with {} variables each.\".format(*data.shape))"
      ],
      "execution_count": 0,
      "outputs": []
    },
    {
      "cell_type": "markdown",
      "metadata": {
        "id": "SATIFBPEobX7",
        "colab_type": "text"
      },
      "source": [
        "## Data Exploration\n",
        "In this first section of this project, you will make a cursory investigation about the Boston housing data and provide your observations. Familiarizing yourself with the data through an explorative process is a fundamental practice to help you better understand and justify your results.\n",
        "\n",
        "Since the main goal of this project is to construct a working model which has the capability of predicting the value of houses, we will need to separate the dataset into **features** and the **target variable**. The **features**, `'RM'`, `'LSTAT'`, and `'PTRATIO'`, give us quantitative information about each data point. The **target variable**, `'MEDV'`, will be the variable we seek to predict. These are stored in `features` and `prices`, respectively."
      ]
    },
    {
      "cell_type": "markdown",
      "metadata": {
        "id": "Deq9JgDJobX8",
        "colab_type": "text"
      },
      "source": [
        "### Implementation: Calculate Statistics\n",
        "For your very first coding implementation, you will calculate descriptive statistics about the Boston housing prices. Since `numpy` has already been imported for you, use this library to perform the necessary calculations. These statistics will be extremely important later on to analyze various prediction results from the constructed model.\n",
        "\n",
        "In the code cell below, you will need to implement the following:\n",
        "- Calculate the minimum, maximum, mean, median, and standard deviation of `'MEDV'`, which is stored in `prices`.\n",
        "  - Store each calculation in their respective variable.\n",
        "\n",
        "**Hint**: Go to [NumPy's doc](https://docs.scipy.org/doc/numpy/reference/routines.statistics.html) to discover the usage of the functions you need."
      ]
    },
    {
      "cell_type": "code",
      "metadata": {
        "id": "bi_v4hZzobX8",
        "colab_type": "code",
        "colab": {}
      },
      "source": [
        "# TODO: Minimum price of the data\n",
        "minimum_price = None\n",
        "\n",
        "# TODO: Maximum price of the data\n",
        "maximum_price = None\n",
        "\n",
        "# TODO: Mean price of the data\n",
        "mean_price = None\n",
        "\n",
        "# TODO: Median price of the data\n",
        "median_price = None\n",
        "\n",
        "# TODO: Standard deviation of prices of the data\n",
        "std_price = None\n",
        "\n",
        "# Show the calculated statistics\n",
        "print(\"Statistics for Boston housing dataset:\\n\")\n",
        "print(\"Minimum price: ${}\".format(minimum_price)) \n",
        "print(\"Maximum price: ${}\".format(maximum_price))\n",
        "print(\"Mean price: ${}\".format(mean_price))\n",
        "print(\"Median price ${}\".format(median_price))\n",
        "print(\"Standard deviation of prices: ${}\".format(std_price))"
      ],
      "execution_count": 0,
      "outputs": []
    },
    {
      "cell_type": "markdown",
      "metadata": {
        "id": "s0lrET0EobX_",
        "colab_type": "text"
      },
      "source": [
        "### Question 1 - Feature Observation\n",
        "As a reminder, we are using three features from the Boston housing dataset: `'RM'`, `'LSTAT'`, and `'PTRATIO'`. For each data point (neighborhood):\n",
        "- `'RM'` is the average number of rooms among homes in the neighborhood.\n",
        "- `'LSTAT'` is the percentage of homeowners in the neighborhood considered \"lower class\" (working poor).\n",
        "- `'PTRATIO'` is the ratio of students to teachers in primary and secondary schools in the neighborhood.\n",
        "\n",
        "You can run the code cell below to examine some samples.\n"
      ]
    },
    {
      "cell_type": "code",
      "metadata": {
        "id": "_NkmWGfUbhuG",
        "colab_type": "code",
        "colab": {}
      },
      "source": [
        "# randomly pick up 5 samples\n",
        "indices = np.random.choice(data.shape[0], 5)\n",
        "data.iloc[indices]"
      ],
      "execution_count": 0,
      "outputs": []
    },
    {
      "cell_type": "markdown",
      "metadata": {
        "id": "lMR7mT1Wbz6F",
        "colab_type": "text"
      },
      "source": [
        "Using your intuition, for each of the three features above, do you think that an increase in the value of that feature would lead to an **increase** in the value of `'MEDV'` or a **decrease** in the value of `'MEDV'`? Justify your answer for each.\n",
        "\n",
        "**Hint:** This problem can phrased using examples like below.  \n",
        "* Would you expect a home that has an `'RM'` value(number of rooms) of 6 be worth more or less than a home that has an `'RM'` value of 7?\n",
        "* Would you expect a neighborhood that has an `'LSTAT'` value(percent of lower class workers) of 15 have home prices be worth more or less than a neighborhood that has an `'LSTAT'` value of 20?\n",
        "* Would you expect a neighborhood that has an `'PTRATIO'` value(ratio of students to teachers) of 10 have home prices be worth more or less than a neighborhood that has an `'PTRATIO'` value of 15?"
      ]
    },
    {
      "cell_type": "markdown",
      "metadata": {
        "id": "Caxq4foQobYA",
        "colab_type": "text"
      },
      "source": [
        "**Write your answer here: **"
      ]
    },
    {
      "cell_type": "markdown",
      "metadata": {
        "id": "TFdL8sx6obYB",
        "colab_type": "text"
      },
      "source": [
        "----\n",
        "\n",
        "## Developing a Model\n",
        "In this second section of the project, you will develop the tools and techniques necessary for a model to make a prediction. Being able to make accurate evaluations of each model's performance through the use of these tools and techniques helps to greatly reinforce the confidence in your predictions."
      ]
    },
    {
      "cell_type": "markdown",
      "metadata": {
        "id": "flfCZlgoobYC",
        "colab_type": "text"
      },
      "source": [
        "### Implementation: Define a Performance Metric\n",
        "It is difficult to measure the quality of a given model without quantifying its performance over training and testing. This is typically done using some type of performance metric, whether it is through calculating some type of error, the goodness of fit, or some other useful measurement. For this project, you will be calculating the [*coefficient of determination*](http://stattrek.com/statistics/dictionary.aspx?definition=coefficient_of_determination), R<sup>2</sup>, to quantify your model's performance. The coefficient of determination for a model is a useful statistic in regression analysis, as it often describes how \"good\" that model is at making predictions. \n",
        "\n",
        "The values for R<sup>2</sup> range from 0 to 1, which captures the percentage of squared correlation between the predicted and actual values of the **target variable**. A model with an R<sup>2</sup> of 0 is no better than a model that always predicts the *mean* of the target variable, whereas a model with an R<sup>2</sup> of 1 perfectly predicts the target variable. Any value between 0 and 1 indicates what percentage of the target variable, using this model, can be explained by the **features**. _A model can be given a negative R<sup>2</sup> as well, which indicates that the model is **arbitrarily worse** than one that always predicts the mean of the target variable._\n",
        "\n",
        "For the `performance_metric` function in the code cell below, you will need to implement the following:\n",
        "- Use `r2_score` from `sklearn.metrics` to perform a performance calculation between `y_true` and `y_predict`.\n",
        "- Assign the performance score to the `score` variable.\n",
        "\n",
        "Go to [Sci-kit Learn webpage](https://scikit-learn.org/stable/modules/generated/sklearn.metrics.r2_score.html) to see how to use the `r2_score` function.."
      ]
    },
    {
      "cell_type": "code",
      "metadata": {
        "id": "z6L3lgJNobYD",
        "colab_type": "code",
        "colab": {}
      },
      "source": [
        "# TODO: Import 'r2_score' function from sklearn.metrics\n",
        "\n",
        "def performance_metric(y_true, y_predict):\n",
        "    \"\"\" Calculates and returns the performance score between \n",
        "        true and predicted values based on the metric chosen. \"\"\"\n",
        "    \n",
        "    # TODO: Calculate the performance score between 'y_true' and 'y_predict' using r2_score\n",
        "    score = None\n",
        "\n",
        "    # Return the score\n",
        "    return score"
      ],
      "execution_count": 0,
      "outputs": []
    },
    {
      "cell_type": "markdown",
      "metadata": {
        "id": "4YkGmZdIobYG",
        "colab_type": "text"
      },
      "source": [
        "### Question 2 - Goodness of Fit\n",
        "Assume that a dataset contains five data points and a model made the following predictions for the target variable:\n",
        "\n",
        "| True Value | Prediction |\n",
        "| :-------------: | :--------: |\n",
        "| 3.0 | 2.5 |\n",
        "| -0.5 | 0.0 |\n",
        "| 2.0 | 2.1 |\n",
        "| 7.0 | 7.8 |\n",
        "| 4.2 | 5.3 |\n",
        "\n",
        "Run the code cell below to use the `performance_metric` function and calculate this model's coefficient of determination."
      ]
    },
    {
      "cell_type": "code",
      "metadata": {
        "id": "E7VxLxWaobYG",
        "colab_type": "code",
        "colab": {}
      },
      "source": [
        "# Calculate the performance of this model\n",
        "y_true = [3, -0.5, 2, 7, 4.2]\n",
        "y_predict = [2.5, 0.0, 2.1, 7.8, 5.3]\n",
        "score = performance_metric(y_true, y_predict)\n",
        "print(\"Model has a coefficient of determination, R^2, of {:.3f}.\".format(score))"
      ],
      "execution_count": 0,
      "outputs": []
    },
    {
      "cell_type": "markdown",
      "metadata": {
        "id": "HdwFBH_lobYJ",
        "colab_type": "text"
      },
      "source": [
        "* Would you consider this model to have successfully captured the variation of the target variable? \n",
        "* Why or why not?\n",
        "\n",
        "**Hint:**  The R2 score is the proportion of the variance in the dependent variable that is predictable from the independent variable. In other words:\n",
        "* R2 score of 0 means that the dependent variable cannot be predicted from the independent variable.\n",
        "* R2 score of 1 means the dependent variable can be predicted from the independent variable.\n",
        "* R2 score between 0 and 1 indicates the extent to which the dependent variable is predictable. An \n",
        "* R2 score of 0.40 means that 40 percent of the variance in Y is predictable from X."
      ]
    },
    {
      "cell_type": "markdown",
      "metadata": {
        "id": "0ff9I9LCobYK",
        "colab_type": "text"
      },
      "source": [
        "**Write your answer here: **"
      ]
    },
    {
      "cell_type": "markdown",
      "metadata": {
        "id": "zsI77tLjobYL",
        "colab_type": "text"
      },
      "source": [
        "### Implementation: Shuffle and Split Data\n",
        "Your next implementation requires that you take the Boston housing dataset and split the data into training and testing subsets. Typically, the data is also shuffled into a random order when creating the training and testing subsets to remove any bias in the ordering of the dataset.\n",
        "\n",
        "For the code cell below, you will need to implement the following:\n",
        "- Use `train_test_split` from `sklearn.model_selection` to shuffle and split the `features` and `prices` data into training and testing sets.\n",
        "  - Split the data into 80% training and 20% testing.\n",
        "  - Set the `random_state` for `train_test_split` to a value of your choice. This ensures results are consistent.\n",
        "- Assign the train and testing splits to `X_train`, `X_test`, `y_train`, and `y_test`."
      ]
    },
    {
      "cell_type": "code",
      "metadata": {
        "id": "g4F95sowobYM",
        "colab_type": "code",
        "colab": {}
      },
      "source": [
        "# TODO: Import 'train_test_split'\n",
        "\n",
        "# TODO:  Split the data into training and testing subsets\n",
        "X_train, X_test, y_train, y_test = None, None, None, None\n",
        "\n",
        "# Success\n",
        "if X_train is not None:\n",
        "  print(\"Training and testing split was successful.\")\n",
        "else:\n",
        "  print(\"Something wrong. Data are not splitted.\")\n",
        "# Print out the shape of training and testing data"
      ],
      "execution_count": 0,
      "outputs": []
    },
    {
      "cell_type": "markdown",
      "metadata": {
        "id": "IrjoNazEobYO",
        "colab_type": "text"
      },
      "source": [
        "### Question 3 - Training and Testing\n",
        "\n",
        "* What is the benefit to splitting a dataset into some ratio of training and testing subsets for a learning algorithm?\n",
        "\n",
        "**Hint:** Think about how overfitting or underfitting is contingent upon how splits on data is done."
      ]
    },
    {
      "cell_type": "markdown",
      "metadata": {
        "id": "DVP1vHaNobYP",
        "colab_type": "text"
      },
      "source": [
        "**Answer: **"
      ]
    },
    {
      "cell_type": "markdown",
      "metadata": {
        "id": "-1UOuoUhobYR",
        "colab_type": "text"
      },
      "source": [
        "### Learning Curves\n",
        "The following code cell produces four graphs for a [decision tree model](https://scikit-learn.org/stable/modules/generated/sklearn.tree.DecisionTreeRegressor.html) with different maximum depths. Each graph visualizes the learning curves of the model for both training and testing as the size of the training set is increased. Note that the shaded region of a learning curve denotes the uncertainty of that curve (measured as the standard deviation). The model is scored on both the training and testing sets using R<sup>2</sup>, the coefficient of determination.  \n",
        "\n",
        "Run the code cell below and use these graphs to answer the following question. You don't have to modify anything in this code cell.  \n",
        "\n",
        "**Note:** If you do not know what a decision tree model is, please refer [here](https://en.wikipedia.org/wiki/Decision_tree)."
      ]
    },
    {
      "cell_type": "code",
      "metadata": {
        "id": "9RQZKJfLobYR",
        "colab_type": "code",
        "colab": {}
      },
      "source": [
        "def learn_model(X, y):\n",
        "    \"\"\" Calculates the performance of several models with varying sizes of training data.\n",
        "        The learning and testing scores for each model are then plotted. \"\"\"\n",
        "    \n",
        "    sizes = np.arange(10, len(X_train), 50)\n",
        "    \n",
        "    # Generate the training set sizes increasing by 50\n",
        "    train_sizes = np.rint(np.arange(10, len(X_train)*0.8, 50)).astype(int)\n",
        "\n",
        "    # Create the figure window\n",
        "    fig = plt.figure(figsize=(10,7))\n",
        "\n",
        "    # Create three different models based on max_depth\n",
        "    for k, depth in enumerate([1, 3, 6, 10]):\n",
        "        \n",
        "        from sklearn.tree import DecisionTreeRegressor\n",
        "        # Create a Decision tree regressor at max_depth = depth\n",
        "        regressor = DecisionTreeRegressor(max_depth = depth)\n",
        "        \n",
        "        # Calculate the training and testing scores\n",
        "        from sklearn.model_selection import learning_curve\n",
        "        sizes, train_scores, test_scores = learning_curve(regressor, X, y, \\\n",
        "            cv = 5, train_sizes = train_sizes, scoring = 'r2')\n",
        "        \n",
        "        # Find the mean and standard deviation for smoothing\n",
        "        train_std = np.std(train_scores, axis = 1)\n",
        "        train_mean = np.mean(train_scores, axis = 1)\n",
        "        test_std = np.std(test_scores, axis = 1)\n",
        "        test_mean = np.mean(test_scores, axis = 1)\n",
        "\n",
        "        # Subplot the learning curve \n",
        "        ax = fig.add_subplot(2, 2, k+1)\n",
        "        ax.plot(sizes, train_mean, 'o-', color = 'r', label = 'Training Score')\n",
        "        ax.plot(sizes, test_mean, 'o-', color = 'g', label = 'Testing Score')\n",
        "        ax.fill_between(sizes, train_mean - train_std, \\\n",
        "            train_mean + train_std, alpha = 0.15, color = 'r')\n",
        "        ax.fill_between(sizes, test_mean - test_std, \\\n",
        "            test_mean + test_std, alpha = 0.15, color = 'g')\n",
        "        \n",
        "        # Labels\n",
        "        ax.set_title('max_depth = %s'%(depth))\n",
        "        ax.set_xlabel('Number of Training Points')\n",
        "        ax.set_ylabel('Score')\n",
        "        ax.set_xlim([0, X.shape[0]*0.8])\n",
        "        ax.set_ylim([-0.05, 1.05])\n",
        "    \n",
        "    # Visual aesthetics\n",
        "    ax.legend(bbox_to_anchor=(1.05, 2.05), loc='lower left', borderaxespad = 0.)\n",
        "    plt.suptitle('Decision Tree Regressor Learning Performances', fontsize = 16, y = 1.03)\n",
        "    plt.tight_layout()\n",
        "    plt.show()"
      ],
      "execution_count": 0,
      "outputs": []
    },
    {
      "cell_type": "code",
      "metadata": {
        "scrolled": false,
        "id": "i87j4kz-obYU",
        "colab_type": "code",
        "colab": {}
      },
      "source": [
        "# Produce learning curves for varying training set sizes and maximum depths\n",
        "learn_model(X_train, y_train)"
      ],
      "execution_count": 0,
      "outputs": []
    },
    {
      "cell_type": "markdown",
      "metadata": {
        "id": "1sY1M67GobYX",
        "colab_type": "text"
      },
      "source": [
        "### Question 4 - Learning the Data\n",
        "* Choose one of the graphs above and state the maximum depth for the model. \n",
        "* What happens to the score of the training curve as more training points are added? What about the testing curve? \n",
        "* Would having more training points benefit the model? \n",
        "\n",
        "**Hint:** Are the learning curves converging to particular scores? Generally speaking, the more data you have, the better. But if your training and testing curves are converging with a score above your benchmark threshold, would this be necessary?\n",
        "Think about the pros and cons of adding more training points based on if the training and testing curves are converging."
      ]
    },
    {
      "cell_type": "markdown",
      "metadata": {
        "id": "0a4Aa_LKobYY",
        "colab_type": "text"
      },
      "source": [
        "**Write your answer here: **"
      ]
    },
    {
      "cell_type": "markdown",
      "metadata": {
        "id": "aU3zwGYdobYY",
        "colab_type": "text"
      },
      "source": [
        "### Complexity Curves\n",
        "The following code cell produces a graph for a decision tree model that has been trained and validated on the training data using different maximum depths. The graph produces two complexity curves — one for training and one for validation. Similar to the **learning curves**, the shaded regions of both the complexity curves denote the uncertainty in those curves, and the model is scored on both the training and validation sets using the `performance_metric` function.  \n",
        "\n",
        "** Run the code cell below and use this graph to answer the following two questions Q5 and Q6. **"
      ]
    },
    {
      "cell_type": "code",
      "metadata": {
        "id": "4XoJc0dDobYZ",
        "colab_type": "code",
        "colab": {}
      },
      "source": [
        "def model_complexity(X, y):\n",
        "    \"\"\" Calculates the performance of the model as model complexity increases.\n",
        "        The learning and testing errors rates are then plotted. \"\"\"\n",
        "\n",
        "    # Vary the max_depth parameter from 1 to 10\n",
        "    max_depth = np.arange(1,11)\n",
        "    \n",
        "    from sklearn.tree import DecisionTreeRegressor\n",
        "\n",
        "    # Create 10 cross-validation sets for training and testing\n",
        "    # Calculate the training and testing scores\n",
        "    from sklearn.model_selection import validation_curve\n",
        "    train_scores, test_scores = validation_curve(DecisionTreeRegressor(), X, y, \\\n",
        "        param_name = \"max_depth\", param_range = max_depth, cv = 10, scoring = 'r2')\n",
        "\n",
        "    # Find the mean and standard deviation for smoothing\n",
        "    train_mean = np.mean(train_scores, axis=1)\n",
        "    train_std = np.std(train_scores, axis=1)\n",
        "    test_mean = np.mean(test_scores, axis=1)\n",
        "    test_std = np.std(test_scores, axis=1)\n",
        "\n",
        "    # Plot the validation curve\n",
        "    plt.figure(figsize=(7, 5))\n",
        "    plt.title('Decision Tree Regressor Complexity Performance')\n",
        "    plt.plot(max_depth, train_mean, 'o-', color = 'r', label = 'Training Score')\n",
        "    plt.plot(max_depth, test_mean, 'o-', color = 'g', label = 'Validation Score')\n",
        "    plt.fill_between(max_depth, train_mean - train_std, \\\n",
        "        train_mean + train_std, alpha = 0.15, color = 'r')\n",
        "    plt.fill_between(max_depth, test_mean - test_std, \\\n",
        "        test_mean + test_std, alpha = 0.15, color = 'g')\n",
        "    \n",
        "    # Visual aesthetics\n",
        "    plt.legend(loc = 'lower right')\n",
        "    plt.xlabel('Maximum Depth')\n",
        "    plt.ylabel('Score')\n",
        "    plt.ylim([-0.05,1.05])\n",
        "    plt.xticks(np.arange(0, 11, step=1))\n",
        "    plt.show()"
      ],
      "execution_count": 0,
      "outputs": []
    },
    {
      "cell_type": "markdown",
      "metadata": {
        "id": "l79z033ngkZn",
        "colab_type": "text"
      },
      "source": [
        "Now we call this function to plot the curve."
      ]
    },
    {
      "cell_type": "code",
      "metadata": {
        "id": "aokqxPu5obYc",
        "colab_type": "code",
        "colab": {}
      },
      "source": [
        "model_complexity(X_train, y_train)"
      ],
      "execution_count": 0,
      "outputs": []
    },
    {
      "cell_type": "markdown",
      "metadata": {
        "id": "hnj3aNBaobYe",
        "colab_type": "text"
      },
      "source": [
        "### Question 5 - Bias-Variance Tradeoff\n",
        "* When the model is trained with a maximum depth of 1, does the model suffer from high bias or from high variance? \n",
        "* How about when the model is trained with a maximum depth of 10? What visual cues in the graph justify your conclusions?\n",
        "\n",
        "**Hint:** High bias is a sign of underfitting(model is not complex enough to pick up the nuances in the data) and high variance is a sign of overfitting(model is by-hearting the data and cannot generalize well). Think about which model(depth 1 or 10) aligns with which part of the tradeoff."
      ]
    },
    {
      "cell_type": "markdown",
      "metadata": {
        "id": "rRuY8-8kobYf",
        "colab_type": "text"
      },
      "source": [
        "**Write your answer here: **"
      ]
    },
    {
      "cell_type": "markdown",
      "metadata": {
        "id": "l6ztex20obYf",
        "colab_type": "text"
      },
      "source": [
        "### Question 6 - Best-Guess Optimal Model\n",
        "* Which maximum depth do you think results in a model that best generalizes to unseen data? \n",
        "* What intuition lead you to this answer?\n",
        "\n",
        "** Hint: ** Look at the graph above Question 5 and see where the validation scores lie for the various depths that have been assigned to the model. Does it get better with increased depth? At what point do we get our best validation score without overcomplicating our model? And remember, Occams Razor states \"Among competing hypotheses, the one with the fewest assumptions should be selected.\""
      ]
    },
    {
      "cell_type": "markdown",
      "metadata": {
        "id": "yNdTagtZobYg",
        "colab_type": "text"
      },
      "source": [
        "**Write your answer here: **"
      ]
    },
    {
      "cell_type": "markdown",
      "metadata": {
        "id": "lb-30gnxobYh",
        "colab_type": "text"
      },
      "source": [
        "-----\n",
        "\n",
        "## Evaluating Model Performance\n",
        "In this final section of the project, you will construct a model and make a prediction on the client's feature set using an optimized model from `fit_model`."
      ]
    },
    {
      "cell_type": "markdown",
      "metadata": {
        "id": "skAtQsYHobYh",
        "colab_type": "text"
      },
      "source": [
        "### Question 7 - Cross-Validation\n",
        "\n",
        "* What is the k-fold cross-validation training technique? \n",
        "\n",
        "* What benefit does this technique provide for grid search when optimizing a model?\n",
        "\n",
        "**Hint:** When explaining the k-fold cross validation technique, be sure to touch upon what 'k' is, how the dataset is split into different parts for training and testing and the number of times it is run based on the 'k' value.\n",
        "\n",
        "When thinking about how k-fold cross validation helps grid search, think about the main drawbacks of grid search which are hinged upon **using a particular subset of data for training or testing** and how k-fold cv could help alleviate that. You can refer to the [docs](http://scikit-learn.org/stable/modules/cross_validation.html#cross-validation) for your answer."
      ]
    },
    {
      "cell_type": "markdown",
      "metadata": {
        "id": "a7NMjt0tobYi",
        "colab_type": "text"
      },
      "source": [
        "**Write your answer here: **"
      ]
    },
    {
      "cell_type": "markdown",
      "metadata": {
        "id": "aQz7LH6CobYj",
        "colab_type": "text"
      },
      "source": [
        "### Implementation: Fitting a Model\n",
        "Your final implementation requires that you bring everything together and train two models: the **linear regression** and **decision tree regression**. Choose a `max_depth` for the decision tree regressor according to your observations."
      ]
    },
    {
      "cell_type": "code",
      "metadata": {
        "id": "jDzOeJd2obYk",
        "colab_type": "code",
        "colab": {}
      },
      "source": [
        "# TODO: Import 'LinearRegression'\n",
        "    \n",
        "# TODO: Create your regressor objects\n",
        "linear_regressor = None\n",
        "dt_regressor = None\n",
        "\n",
        "# TODO: fit your model\n",
        "    "
      ],
      "execution_count": 0,
      "outputs": []
    },
    {
      "cell_type": "markdown",
      "metadata": {
        "id": "cM-3gcY0obYm",
        "colab_type": "text"
      },
      "source": [
        "### Making Predictions\n",
        "### Implementation: Evaluate your model\n",
        "Once a model has been trained on a given set of data, it can now be used to make predictions on new sets of input data.\n",
        "Use the splitted test data to evaluate your model "
      ]
    },
    {
      "cell_type": "code",
      "metadata": {
        "scrolled": true,
        "id": "hWntAePKobYn",
        "colab_type": "code",
        "colab": {}
      },
      "source": [
        "# TODO: use X_test to make predictions\n",
        "\n",
        "\n",
        "#calculate the score using the performance_metric you wrote above\n",
        "score_lr = None\n",
        "score_dt = None\n",
        "\n",
        "print(\"Linear regression model has a coefficient of determination, R^2, of {:.3f}.\".format(score_lr))\n",
        "print(\"Decision tree regression model has a coefficient of determination, R^2, of {:.3f}.\".format(score_dt))"
      ],
      "execution_count": 0,
      "outputs": []
    },
    {
      "cell_type": "markdown",
      "metadata": {
        "id": "iHupbKVeobYp",
        "colab_type": "text"
      },
      "source": [
        "**Hint:** The answer comes from the output of the code snipped above.\n",
        "\n",
        "**Write your answer here: **"
      ]
    },
    {
      "cell_type": "markdown",
      "metadata": {
        "id": "elxS9xBMobYq",
        "colab_type": "text"
      },
      "source": [
        "### Question 8 - Predicting Selling Prices\n",
        "### Implementation: use one of the above models to predict prices\n",
        "Imagine that you were a real estate agent in the Boston area looking to use this model to help price homes owned by your clients that they wish to sell. You have collected the following information from three of your clients:\n",
        "\n",
        "| Feature | Client 1 | Client 2 | Client 3 |\n",
        "| :---: | :---: | :---: | :---: |\n",
        "| Total number of rooms in home | 5 rooms | 4 rooms | 8 rooms |\n",
        "| Neighborhood poverty level (as %) | 17% | 32% | 3% |\n",
        "| Student-teacher ratio of nearby schools | 15-to-1 | 22-to-1 | 12-to-1 |\n",
        "\n",
        "* What price would you recommend each client sell his/her home at? \n",
        "* Do these prices seem reasonable given the values for the respective features? \n",
        "\n",
        "**Hint:** Use the statistics you calculated in the **Data Exploration** section to help justify your response.  Of the three clients, client 3 has has the biggest house, in the best public school neighborhood with the lowest poverty level; while client 2 has the smallest house, in a neighborhood with a relatively high poverty rate and not the best public schools.\n",
        "\n",
        "Run the code block below to have your optimized model make predictions for each client's home."
      ]
    },
    {
      "cell_type": "code",
      "metadata": {
        "id": "nBN9qEyuobYr",
        "colab_type": "code",
        "colab": {}
      },
      "source": [
        "# Produce a matrix for client data\n",
        "client_data = [[5, 17, 15], # Client 1\n",
        "         [4, 32, 22], # Client 2\n",
        "         [8, 3, 12]]  # Client 3\n",
        "\n",
        "# Apply either one model to show predictions\n",
        "for i, price in enumerate({YOUR_REGRESSOR}.predict(client_data)):\n",
        "    print(\"Predicted selling price for Client {}'s home: ${:,.2f}\".format(i+1, price))"
      ],
      "execution_count": 0,
      "outputs": []
    },
    {
      "cell_type": "markdown",
      "metadata": {
        "id": "Pfi_cOJOobYv",
        "colab_type": "text"
      },
      "source": [
        "**Write your answer here: **"
      ]
    },
    {
      "cell_type": "markdown",
      "metadata": {
        "id": "UjY3OnPLobYx",
        "colab_type": "text"
      },
      "source": [
        "### Implementation: cross validation\n",
        "\n",
        "For the code cell below, you will need to implement the cross validation technique to obtain the predictions of **all data**. Use the `cross_val_predict` method in `sklearn.model_selection` to accomplish this. You can get more information from [*here*](http://scikit-learn.org/stable/modules/generated/sklearn.model_selection.cross_val_predict.html). Plot a figure which shows the relation between the true price and the predicted price for all data. You have to show the results of both models you applied above. "
      ]
    },
    {
      "cell_type": "code",
      "metadata": {
        "id": "23Cn2kUFobYz",
        "colab_type": "code",
        "colab": {}
      },
      "source": [
        "# TODO: Use cross validation function to get the predictions of all data\n",
        "\n",
        "pred_linear_regressor = None\n",
        "pred_dt_regressor = None\n",
        "\n",
        "# plot a figure of true price vs. prediction for both models\n",
        "fig, ax = plt.subplots(1,2, figsize=(10,6))\n",
        "ax[0].set_title(\"linear regression\")\n",
        "ax[0].scatter(prices, pred_linear_regressor, edgecolors=(0, 0, 0))\n",
        "ax[0].plot([prices.min(), prices.max()], [prices.min(), prices.max()], 'r--', lw=3)\n",
        "ax[0].set_ylim([0, predictions.max()])\n",
        "ax[0].set_xlabel('true prices')\n",
        "ax[0].set_ylabel('Predicted')\n",
        "ax[1].set_title(\"decision tree regressor\")\n",
        "ax[1].scatter(prices, pred_dt_regressor, edgecolors=(0, 0, 0))\n",
        "ax[1].plot([prices.min(), prices.max()], [prices.min(), prices.max()], 'r--', lw=3)\n",
        "ax[1].set_ylim([0, predictions.max()])\n",
        "ax[1].set_xlabel('true prices')\n",
        "ax[1].set_ylabel('Predicted')\n",
        "plt.show()"
      ],
      "execution_count": 0,
      "outputs": []
    },
    {
      "cell_type": "markdown",
      "metadata": {
        "id": "aoQQylhNobY1",
        "colab_type": "text"
      },
      "source": [
        "### Question 9 - Applicability\n",
        "\n",
        "* In a few sentences, discuss whether the constructed model should or should not be used in a real-world setting.  \n",
        "\n",
        "**Hint:** Try to split your data several times and see the performance. Some questions to answering:\n",
        "- Which model you preferred? Why?\n",
        "- Are the features present in the data sufficient to describe a home? Do you think factors like quality of apppliances in the home, square feet of the plot area, presence of pool or not etc should factor in?\n",
        "- Is the model robust enough to make consistent predictions?\n",
        "- Is it fair to judge the price of an individual home based on the characteristics of the entire neighborhood?"
      ]
    },
    {
      "cell_type": "markdown",
      "metadata": {
        "id": "hLRgpcn1obY2",
        "colab_type": "text"
      },
      "source": [
        "**Write your answer here: **"
      ]
    },
    {
      "cell_type": "markdown",
      "metadata": {
        "id": "p3pu0V2fjYvJ",
        "colab_type": "text"
      },
      "source": [
        "At last, convert this ipynb file to html and submit your html file.\n",
        "You can get more information about how to convert the ipynb file to html file from [here](https://torbjornzetterlund.com/how-to-save-a-google-colab-notebook-as-html/)."
      ]
    }
  ]
}